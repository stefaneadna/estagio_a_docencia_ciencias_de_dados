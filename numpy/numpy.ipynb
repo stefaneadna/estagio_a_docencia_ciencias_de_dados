{
 "cells": [
  {
   "cell_type": "markdown",
   "id": "e8fa59c2-370a-4b03-af53-8e2889ae54af",
   "metadata": {
    "jp-MarkdownHeadingCollapsed": true,
    "tags": []
   },
   "source": [
    "## O que são ndarray?\n",
    "São vetores ou matrizes de n-dimensões"
   ]
  },
  {
   "cell_type": "code",
   "execution_count": null,
   "id": "0222e5ff",
   "metadata": {},
   "outputs": [],
   "source": [
    "np.random()\n",
    "np.ones()\n",
    "np.zeros()\n",
    "np.all()\n"
   ]
  },
  {
   "cell_type": "code",
   "execution_count": 1,
   "id": "a885817f",
   "metadata": {},
   "outputs": [],
   "source": [
    "import numpy as np"
   ]
  },
  {
   "cell_type": "code",
   "execution_count": 2,
   "id": "7ceab639-f0ac-48a9-8a72-46438b9cf9b1",
   "metadata": {},
   "outputs": [],
   "source": [
    "vec_1D = [1,2,3,4,5]\n",
    "\n",
    "vec_2D = [[1,2,3,4,5],\n",
    "          [1,2,3,4,5]]\n",
    "\n",
    "vec_3D = [[1,2,3,4,5],\n",
    "          [5,4,3,2,1],\n",
    "          [9,9,9,9,9]]\n"
   ]
  },
  {
   "cell_type": "code",
   "execution_count": 3,
   "id": "a886e7fa-0701-4b03-a686-13be9ec104ec",
   "metadata": {},
   "outputs": [
    {
     "data": {
      "text/plain": [
       "(3, 5)"
      ]
     },
     "metadata": {},
     "output_type": "display_data"
    },
    {
     "data": {
      "text/plain": [
       "array([[1, 2, 3, 4, 5],\n",
       "       [5, 4, 3, 2, 1],\n",
       "       [9, 9, 9, 9, 9]])"
      ]
     },
     "metadata": {},
     "output_type": "display_data"
    }
   ],
   "source": [
    "array_1d = np.array(vec_1D)\n",
    "array_2d = np.array(vec_2D)\n",
    "array_3d = np.array(vec_3D)\n",
    "display(array_3d.shape,array_3d)"
   ]
  },
  {
   "cell_type": "markdown",
   "id": "adcfc50a",
   "metadata": {
    "jp-MarkdownHeadingCollapsed": true,
    "tags": []
   },
   "source": [
    "## Indexação de Arrays\n",
    "Permite selecionar valores de posições especificas de um vetor."
   ]
  },
  {
   "cell_type": "code",
   "execution_count": 4,
   "id": "4bcd7621",
   "metadata": {},
   "outputs": [
    {
     "data": {
      "text/plain": [
       "9"
      ]
     },
     "execution_count": 4,
     "metadata": {},
     "output_type": "execute_result"
    }
   ],
   "source": [
    "array_3d[2,3]"
   ]
  },
  {
   "cell_type": "code",
   "execution_count": 5,
   "id": "3e334ed6",
   "metadata": {},
   "outputs": [
    {
     "data": {
      "text/plain": [
       "array([[2, 3],\n",
       "       [4, 3],\n",
       "       [9, 9]])"
      ]
     },
     "execution_count": 5,
     "metadata": {},
     "output_type": "execute_result"
    }
   ],
   "source": [
    "array_3d[0:3,1:3]"
   ]
  },
  {
   "cell_type": "code",
   "execution_count": 6,
   "id": "971a190e",
   "metadata": {},
   "outputs": [
    {
     "data": {
      "text/plain": [
       "array([1, 5, 9])"
      ]
     },
     "execution_count": 6,
     "metadata": {},
     "output_type": "execute_result"
    }
   ],
   "source": [
    "array_3d[0:3,0]"
   ]
  },
  {
   "cell_type": "markdown",
   "id": "c8de6356",
   "metadata": {
    "tags": []
   },
   "source": [
    "## Funções unitárias"
   ]
  },
  {
   "attachments": {},
   "cell_type": "markdown",
   "id": "0fb7d814",
   "metadata": {},
   "source": [
    "##### **Valor absoluto**: Calcula o valor absoluto de números inteiros, de ponto flutuante e complexos para todos os elementos.\n"
   ]
  },
  {
   "cell_type": "code",
   "execution_count": 7,
   "id": "93641db1",
   "metadata": {},
   "outputs": [
    {
     "data": {
      "text/plain": [
       "5"
      ]
     },
     "execution_count": 7,
     "metadata": {},
     "output_type": "execute_result"
    }
   ],
   "source": [
    "np.abs(-5)"
   ]
  },
  {
   "attachments": {},
   "cell_type": "markdown",
   "id": "9b00ec65",
   "metadata": {},
   "source": [
    "##### **Raiz Quadrada**: Calcula a raiz quadrada de cada elemento do array."
   ]
  },
  {
   "cell_type": "code",
   "execution_count": 8,
   "id": "d841586e",
   "metadata": {},
   "outputs": [
    {
     "data": {
      "text/plain": [
       "3.0"
      ]
     },
     "execution_count": 8,
     "metadata": {},
     "output_type": "execute_result"
    }
   ],
   "source": [
    "np.sqrt(9)"
   ]
  },
  {
   "attachments": {},
   "cell_type": "markdown",
   "id": "d4435dd2",
   "metadata": {},
   "source": [
    "##### **Exponencial**: Cálculo exponencial de cada elemento do array.\n"
   ]
  },
  {
   "cell_type": "code",
   "execution_count": 9,
   "id": "981a6cae",
   "metadata": {},
   "outputs": [
    {
     "data": {
      "text/plain": [
       "7.38905609893065"
      ]
     },
     "execution_count": 9,
     "metadata": {},
     "output_type": "execute_result"
    }
   ],
   "source": [
    "np.exp(2)"
   ]
  },
  {
   "attachments": {},
   "cell_type": "markdown",
   "id": "07a90d52",
   "metadata": {},
   "source": [
    "##### **Logaritimo**: Calcule o logaritmo natural de todos os elementos.\n"
   ]
  },
  {
   "cell_type": "code",
   "execution_count": 10,
   "id": "60c5a74c",
   "metadata": {},
   "outputs": [
    {
     "data": {
      "text/plain": [
       "4.605170185988092"
      ]
     },
     "execution_count": 10,
     "metadata": {},
     "output_type": "execute_result"
    }
   ],
   "source": [
    "np.log(100)"
   ]
  },
  {
   "attachments": {},
   "cell_type": "markdown",
   "id": "00923cab",
   "metadata": {},
   "source": [
    "##### Função para encontrar **valores nulos**"
   ]
  },
  {
   "cell_type": "code",
   "execution_count": 11,
   "id": "2578a4ce",
   "metadata": {},
   "outputs": [
    {
     "data": {
      "text/plain": [
       "array([False, False, False, False, False])"
      ]
     },
     "execution_count": 11,
     "metadata": {},
     "output_type": "execute_result"
    }
   ],
   "source": [
    "np.isnan(array_1d)"
   ]
  },
  {
   "attachments": {},
   "cell_type": "markdown",
   "id": "5b1d6e15",
   "metadata": {},
   "source": [
    "##### **Funções trigonométricas**: Trigonométricas regulares e hiperbólicas."
   ]
  },
  {
   "cell_type": "code",
   "execution_count": 12,
   "id": "1eb822af",
   "metadata": {},
   "outputs": [
    {
     "data": {
      "text/plain": [
       "0.28366218546322625"
      ]
     },
     "execution_count": 12,
     "metadata": {},
     "output_type": "execute_result"
    }
   ],
   "source": [
    "np.cos(5)"
   ]
  },
  {
   "cell_type": "code",
   "execution_count": 13,
   "id": "853b50ab",
   "metadata": {},
   "outputs": [
    {
     "data": {
      "text/plain": [
       "0.5290826861200238"
      ]
     },
     "execution_count": 13,
     "metadata": {},
     "output_type": "execute_result"
    }
   ],
   "source": [
    "np.sin(34)"
   ]
  },
  {
   "cell_type": "markdown",
   "id": "6a2e0f8b",
   "metadata": {
    "jp-MarkdownHeadingCollapsed": true,
    "tags": []
   },
   "source": [
    "## Funções Binárias"
   ]
  },
  {
   "attachments": {},
   "cell_type": "markdown",
   "id": "a083af55",
   "metadata": {},
   "source": [
    "##### **Soma** dois arrays"
   ]
  },
  {
   "cell_type": "code",
   "execution_count": 14,
   "id": "67743a8c",
   "metadata": {},
   "outputs": [
    {
     "data": {
      "text/plain": [
       "array([ 2,  4,  6,  8, 10])"
      ]
     },
     "execution_count": 14,
     "metadata": {},
     "output_type": "execute_result"
    }
   ],
   "source": [
    "np.add(array_1d,array_1d)"
   ]
  },
  {
   "attachments": {},
   "cell_type": "markdown",
   "id": "69927a9c",
   "metadata": {},
   "source": [
    "##### **Subtrai** dois arrays"
   ]
  },
  {
   "cell_type": "code",
   "execution_count": 15,
   "id": "d4b1fd3c",
   "metadata": {},
   "outputs": [
    {
     "data": {
      "text/plain": [
       "array([0, 0, 0, 0, 0])"
      ]
     },
     "execution_count": 15,
     "metadata": {},
     "output_type": "execute_result"
    }
   ],
   "source": [
    "np.subtract(array_1d,array_1d)"
   ]
  },
  {
   "attachments": {},
   "cell_type": "markdown",
   "id": "dc14ef53",
   "metadata": {},
   "source": [
    "##### **Multiplica** dois arrays"
   ]
  },
  {
   "cell_type": "code",
   "execution_count": 17,
   "id": "393472f8",
   "metadata": {},
   "outputs": [
    {
     "data": {
      "text/plain": [
       "array([ 1,  4,  9, 16, 25])"
      ]
     },
     "execution_count": 17,
     "metadata": {},
     "output_type": "execute_result"
    }
   ],
   "source": [
    "np.multiply(array_1d,array_1d)"
   ]
  },
  {
   "attachments": {},
   "cell_type": "markdown",
   "id": "adab0023",
   "metadata": {},
   "source": [
    "##### **Divide** dois arrays"
   ]
  },
  {
   "cell_type": "code",
   "execution_count": 18,
   "id": "d4380a5c",
   "metadata": {},
   "outputs": [
    {
     "data": {
      "text/plain": [
       "array([1., 1., 1., 1., 1.])"
      ]
     },
     "execution_count": 18,
     "metadata": {},
     "output_type": "execute_result"
    }
   ],
   "source": [
    "np.divide(array_1d,array_1d)"
   ]
  },
  {
   "attachments": {},
   "cell_type": "markdown",
   "id": "22cece2a",
   "metadata": {},
   "source": [
    "##### **Compara** dois arrays: Uma comparação para todos os elementos resultando em um array booleano (equivalente aos operadores relacionais >, >=, <, <=, ==, !=)\n"
   ]
  },
  {
   "cell_type": "code",
   "execution_count": 19,
   "id": "d2cbc26b",
   "metadata": {},
   "outputs": [
    {
     "data": {
      "text/plain": [
       "array([ True,  True,  True,  True,  True])"
      ]
     },
     "execution_count": 19,
     "metadata": {},
     "output_type": "execute_result"
    }
   ],
   "source": [
    "np.equal(array_1d,array_1d)"
   ]
  },
  {
   "cell_type": "markdown",
   "id": "69eecb24",
   "metadata": {
    "jp-MarkdownHeadingCollapsed": true,
    "tags": []
   },
   "source": [
    "## Funções estatisticas e de algebra linear"
   ]
  },
  {
   "attachments": {},
   "cell_type": "markdown",
   "id": "1934a269",
   "metadata": {},
   "source": [
    "##### **Soma** todos os elementos do vetor"
   ]
  },
  {
   "cell_type": "code",
   "execution_count": 22,
   "id": "e0e4c15d",
   "metadata": {},
   "outputs": [
    {
     "data": {
      "text/plain": [
       "15"
      ]
     },
     "metadata": {},
     "output_type": "display_data"
    },
    {
     "data": {
      "text/plain": [
       "array([1, 2, 3, 4, 5])"
      ]
     },
     "metadata": {},
     "output_type": "display_data"
    }
   ],
   "source": [
    "display(np.sum(array_1d),array_1d)"
   ]
  },
  {
   "attachments": {},
   "cell_type": "markdown",
   "id": "7481b1fc",
   "metadata": {},
   "source": [
    "##### Calcula a **media** dos elementos do vetor"
   ]
  },
  {
   "cell_type": "code",
   "execution_count": 23,
   "id": "d80d6853",
   "metadata": {},
   "outputs": [
    {
     "data": {
      "text/plain": [
       "3.0"
      ]
     },
     "metadata": {},
     "output_type": "display_data"
    },
    {
     "data": {
      "text/plain": [
       "array([1, 2, 3, 4, 5])"
      ]
     },
     "metadata": {},
     "output_type": "display_data"
    }
   ],
   "source": [
    "display(np.mean(array_1d),array_1d)"
   ]
  },
  {
   "cell_type": "code",
   "execution_count": 25,
   "id": "90accb58",
   "metadata": {},
   "outputs": [
    {
     "data": {
      "text/plain": [
       "3.0"
      ]
     },
     "execution_count": 25,
     "metadata": {},
     "output_type": "execute_result"
    }
   ],
   "source": [
    "array_1d.mean()"
   ]
  },
  {
   "attachments": {},
   "cell_type": "markdown",
   "id": "3743227a",
   "metadata": {},
   "source": [
    "##### Calcula o **desvio padrão** do array"
   ]
  },
  {
   "cell_type": "code",
   "execution_count": 26,
   "id": "4984fe8f",
   "metadata": {},
   "outputs": [
    {
     "data": {
      "text/plain": [
       "1.4142135623730951"
      ]
     },
     "execution_count": 26,
     "metadata": {},
     "output_type": "execute_result"
    }
   ],
   "source": [
    "array_1d.std()"
   ]
  },
  {
   "attachments": {},
   "cell_type": "markdown",
   "id": "80f1614e",
   "metadata": {},
   "source": [
    "##### Encontra o menor e maior valor do vetor"
   ]
  },
  {
   "cell_type": "code",
   "execution_count": 27,
   "id": "666e2c2c",
   "metadata": {},
   "outputs": [
    {
     "data": {
      "text/plain": [
       "1"
      ]
     },
     "execution_count": 27,
     "metadata": {},
     "output_type": "execute_result"
    }
   ],
   "source": [
    "array_1d.min()"
   ]
  },
  {
   "cell_type": "code",
   "execution_count": 28,
   "id": "8f4acdc1",
   "metadata": {},
   "outputs": [
    {
     "data": {
      "text/plain": [
       "5"
      ]
     },
     "execution_count": 28,
     "metadata": {},
     "output_type": "execute_result"
    }
   ],
   "source": [
    "array_1d.max()"
   ]
  }
 ],
 "metadata": {
  "kernelspec": {
   "display_name": "Python 3 (ipykernel)",
   "language": "python",
   "name": "python3"
  },
  "language_info": {
   "codemirror_mode": {
    "name": "ipython",
    "version": 3
   },
   "file_extension": ".py",
   "mimetype": "text/x-python",
   "name": "python",
   "nbconvert_exporter": "python",
   "pygments_lexer": "ipython3",
   "version": "3.7.13"
  },
  "vscode": {
   "interpreter": {
    "hash": "2d065c8763fcbd420870428e0484b0d8f218c2ab201d3353d5bedbbb4aa212cf"
   }
  }
 },
 "nbformat": 4,
 "nbformat_minor": 5
}
