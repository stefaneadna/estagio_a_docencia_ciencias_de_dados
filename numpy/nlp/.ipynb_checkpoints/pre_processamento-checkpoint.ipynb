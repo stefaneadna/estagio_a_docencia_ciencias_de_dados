{
 "cells": [
  {
   "cell_type": "markdown",
   "metadata": {},
   "source": [
    "## NLP Pré-processamento "
   ]
  },
  {
   "cell_type": "markdown",
   "metadata": {},
   "source": [
    "### Normalização de texto\n",
    "\n",
    "Padronização do texto para remover variações desnecessárias. Isso pode incluir converter todas as letras para minúsculas, remover a pontuação ou substituir abreviações por suas formas completas.\n"
   ]
  },
  {
   "cell_type": "code",
   "execution_count": 1,
   "metadata": {},
   "outputs": [],
   "source": [
    "import re\n",
    "from IPython.display import Markdown"
   ]
  },
  {
   "cell_type": "code",
   "execution_count": 2,
   "metadata": {},
   "outputs": [
    {
     "data": {
      "text/markdown": [
       "Com o aumento constante da pirataria no país, as distribuidoras estão tendo que ser cada vez ousadas - e, contradioriamente, conservadoras - em suas estratégias de lançamentos. E entre os preparativos do primeiro grande blockbuster de 2008, Homem de Ferro, o estúdio responsável pelo lançamento no Brasil decidiu realizar apenas UMA exibição para a imprensa de todo o país. Esta sessão aconteceu dois dias da estréia nacional, na segunda-feira, dia 28 de abril, em São Paulo. E jornalistas e críticos de todo o país foram convidados a estarem presentes. E o resultado? É um filme legal, melhor do que se poderia esperar (se bem que as expectativas eram baixas, de qualquer forma...)."
      ],
      "text/plain": [
       "<IPython.core.display.Markdown object>"
      ]
     },
     "metadata": {},
     "output_type": "display_data"
    }
   ],
   "source": [
    "texto = \"\"\"Com o aumento constante da pirataria no país, as distribuidoras estão tendo que ser cada vez ousadas - e, contradioriamente, conservadoras - em suas estratégias de lançamentos. E entre os preparativos do primeiro grande blockbuster de 2008, Homem de Ferro, o estúdio responsável pelo lançamento no Brasil decidiu realizar apenas UMA exibição para a imprensa de todo o país. Esta sessão aconteceu dois dias da estréia nacional, na segunda-feira, dia 28 de abril, em São Paulo. E jornalistas e críticos de todo o país foram convidados a estarem presentes. E o resultado? É um filme legal, melhor do que se poderia esperar (se bem que as expectativas eram baixas, de qualquer forma...).\"\"\"\n",
    "display(Markdown(texto))"
   ]
  },
  {
   "cell_type": "code",
   "execution_count": 3,
   "metadata": {},
   "outputs": [
    {
     "data": {
      "text/markdown": [
       "Com o aumento constante da pirataria no país as distribuidoras estão tendo que ser cada vez ousadas  e contradioriamente conservadoras  em suas estratégias de lançamentos E entre os preparativos do primeiro grande blockbuster de 2008 Homem de Ferro o estúdio responsável pelo lançamento no Brasil decidiu realizar apenas UMA exibição para a imprensa de todo o país Esta sessão aconteceu dois dias da estréia nacional na segundafeira dia 28 de abril em São Paulo E jornalistas e críticos de todo o país foram convidados a estarem presentes E o resultado É um filme legal melhor do que se poderia esperar se bem que as expectativas eram baixas de qualquer forma"
      ],
      "text/plain": [
       "<IPython.core.display.Markdown object>"
      ]
     },
     "metadata": {},
     "output_type": "display_data"
    }
   ],
   "source": [
    "characters_1 = re.compile(\"[-$.;:!\\'?@,\\\"()\\[\\]]\")\n",
    "texto_p1 = characters_1.sub(\"\", texto)\n",
    "display(Markdown(texto_p1))"
   ]
  },
  {
   "cell_type": "code",
   "execution_count": 4,
   "metadata": {},
   "outputs": [
    {
     "data": {
      "text/markdown": [
       "Com o aumento constante da pirataria no país as distribuidoras estão tendo que ser cada vez ousadas  e contradioriamente conservadoras  em suas estratégias de lançamentos E entre os preparativos do primeiro grande blockbuster de 2008 Homem de Ferro o estúdio responsável pelo lançamento no Brasil decidiu realizar apenas UMA exibição para a imprensa de todo o país Esta sessão aconteceu dois dias da estréia nacional na segundafeira dia 28 de abril em São Paulo E jornalistas e críticos de todo o país foram convidados a estarem presentes E o resultado É um filme legal melhor do que se poderia esperar se bem que as expectativas eram baixas de qualquer forma"
      ],
      "text/plain": [
       "<IPython.core.display.Markdown object>"
      ]
     },
     "metadata": {},
     "output_type": "display_data"
    }
   ],
   "source": [
    "characters_2 = re.compile(\"(<br\\s*/><br\\s*/>)|(\\-)|(\\/)\")\n",
    "texto_p2 = characters_2.sub(\"\", texto_p1)\n",
    "display(Markdown(texto_p2))"
   ]
  },
  {
   "cell_type": "code",
   "execution_count": 5,
   "metadata": {},
   "outputs": [
    {
     "data": {
      "text/markdown": [
       "com o aumento constante da pirataria no país as distribuidoras estão tendo que ser cada vez ousadas  e contradioriamente conservadoras  em suas estratégias de lançamentos e entre os preparativos do primeiro grande blockbuster de  homem de ferro o estúdio responsável pelo lançamento no brasil decidiu realizar apenas uma exibição para a imprensa de todo o país esta sessão aconteceu dois dias da estréia nacional na segundafeira dia  de abril em são paulo e jornalistas e críticos de todo o país foram convidados a estarem presentes e o resultado é um filme legal melhor do que se poderia esperar se bem que as expectativas eram baixas de qualquer forma"
      ],
      "text/plain": [
       "<IPython.core.display.Markdown object>"
      ]
     },
     "metadata": {},
     "output_type": "display_data"
    }
   ],
   "source": [
    "characters_3 = re.compile('[0-9]+')\n",
    "texto_p3 = characters_3.sub(\"\", texto_p2.lower())\n",
    "display(Markdown(texto_p3))"
   ]
  },
  {
   "cell_type": "markdown",
   "metadata": {},
   "source": [
    "### Tokenização\n",
    "\n",
    "É o processo de dividir o texto em unidades menores chamadas tokens, que geralmente são palavras ou símbolos."
   ]
  },
  {
   "cell_type": "code",
   "execution_count": 50,
   "metadata": {},
   "outputs": [
    {
     "name": "stderr",
     "output_type": "stream",
     "text": [
      "[nltk_data] Downloading package stopwords to\n",
      "[nltk_data]     C:\\Users\\STEFA\\AppData\\Roaming\\nltk_data...\n",
      "[nltk_data]   Package stopwords is already up-to-date!\n"
     ]
    },
    {
     "data": {
      "text/plain": [
       "True"
      ]
     },
     "execution_count": 50,
     "metadata": {},
     "output_type": "execute_result"
    }
   ],
   "source": [
    "from nltk import word_tokenize, download\n",
    "download('stopwords')"
   ]
  },
  {
   "cell_type": "code",
   "execution_count": 58,
   "metadata": {},
   "outputs": [
    {
     "data": {
      "text/plain": [
       "['com',\n",
       " 'o',\n",
       " 'aumento',\n",
       " 'constante',\n",
       " 'da',\n",
       " 'pirataria',\n",
       " 'no',\n",
       " 'país',\n",
       " 'as',\n",
       " 'distribuidoras',\n",
       " 'estão',\n",
       " 'tendo',\n",
       " 'que',\n",
       " 'ser',\n",
       " 'cada',\n",
       " 'vez',\n",
       " 'ousadas',\n",
       " 'e',\n",
       " 'contradioriamente',\n",
       " 'conservadoras',\n",
       " 'em',\n",
       " 'suas',\n",
       " 'estratégias',\n",
       " 'de',\n",
       " 'lançamentos',\n",
       " 'e',\n",
       " 'entre',\n",
       " 'os',\n",
       " 'preparativos',\n",
       " 'do',\n",
       " 'primeiro',\n",
       " 'grande',\n",
       " 'blockbuster',\n",
       " 'de',\n",
       " 'homem',\n",
       " 'de',\n",
       " 'ferro',\n",
       " 'o',\n",
       " 'estúdio',\n",
       " 'responsável',\n",
       " 'pelo',\n",
       " 'lançamento',\n",
       " 'no',\n",
       " 'brasil',\n",
       " 'decidiu',\n",
       " 'realizar',\n",
       " 'apenas',\n",
       " 'uma',\n",
       " 'exibição',\n",
       " 'para',\n",
       " 'a',\n",
       " 'imprensa',\n",
       " 'de',\n",
       " 'todo',\n",
       " 'o',\n",
       " 'país',\n",
       " 'esta',\n",
       " 'sessão',\n",
       " 'aconteceu',\n",
       " 'dois',\n",
       " 'dias',\n",
       " 'da',\n",
       " 'estréia',\n",
       " 'nacional',\n",
       " 'na',\n",
       " 'segundafeira',\n",
       " 'dia',\n",
       " 'de',\n",
       " 'abril',\n",
       " 'em',\n",
       " 'são',\n",
       " 'paulo',\n",
       " 'e',\n",
       " 'jornalistas',\n",
       " 'e',\n",
       " 'críticos',\n",
       " 'de',\n",
       " 'todo',\n",
       " 'o',\n",
       " 'país',\n",
       " 'foram',\n",
       " 'convidados',\n",
       " 'a',\n",
       " 'estarem',\n",
       " 'presentes',\n",
       " 'e',\n",
       " 'o',\n",
       " 'resultado',\n",
       " 'é',\n",
       " 'um',\n",
       " 'filme',\n",
       " 'legal',\n",
       " 'melhor',\n",
       " 'do',\n",
       " 'que',\n",
       " 'se',\n",
       " 'poderia',\n",
       " 'esperar',\n",
       " 'se',\n",
       " 'bem',\n",
       " 'que',\n",
       " 'as',\n",
       " 'expectativas',\n",
       " 'eram',\n",
       " 'baixas',\n",
       " 'de',\n",
       " 'qualquer',\n",
       " 'forma']"
      ]
     },
     "execution_count": 58,
     "metadata": {},
     "output_type": "execute_result"
    }
   ],
   "source": [
    "text_tokens = word_tokenize(texto, language='portuguese')\n",
    "text_tokens_pre_processado = word_tokenize(texto_p3, language='portuguese')\n",
    "text_tokens_pre_processado"
   ]
  },
  {
   "cell_type": "markdown",
   "metadata": {},
   "source": [
    "### Remoção das Stop Words\n",
    "\n",
    "São palavras que aparecem com frequência na linguagem, mas que não carregam significado, como \"a\", \"e\" e \"o\". "
   ]
  },
  {
   "cell_type": "code",
   "execution_count": 59,
   "metadata": {},
   "outputs": [
    {
     "name": "stderr",
     "output_type": "stream",
     "text": [
      "[nltk_data] Downloading package stopwords to\n",
      "[nltk_data]     C:\\Users\\STEFA\\AppData\\Roaming\\nltk_data...\n",
      "[nltk_data]   Package stopwords is already up-to-date!\n"
     ]
    },
    {
     "data": {
      "text/plain": [
       "True"
      ]
     },
     "execution_count": 59,
     "metadata": {},
     "output_type": "execute_result"
    }
   ],
   "source": [
    "from nltk.corpus import stopwords\n",
    "download('stopwords')"
   ]
  },
  {
   "cell_type": "code",
   "execution_count": 60,
   "metadata": {},
   "outputs": [],
   "source": [
    "stop_words = set(stopwords.words('portuguese'))\n",
    "text_without_sw = [token for token in text_tokens_pre_processado if token not in stop_words]"
   ]
  },
  {
   "cell_type": "code",
   "execution_count": 64,
   "metadata": {},
   "outputs": [
    {
     "name": "stdout",
     "output_type": "stream",
     "text": [
      "Texto completo com stop words: 131\n",
      "Texto processado com stop words: 108\n",
      "Texto sem stop words: 58\n"
     ]
    }
   ],
   "source": [
    "print(f\"Texto completo com stop words: {len(text_tokens)}\")\n",
    "print(f\"Texto processado com stop words: {len(text_tokens_pre_processado)}\")\n",
    "print(f\"Texto sem stop words: {len(text_without_sw)}\")"
   ]
  },
  {
   "cell_type": "markdown",
   "metadata": {},
   "source": [
    "### Stemização\n",
    "\n",
    "Redução de uma palavra ao seu stema."
   ]
  },
  {
   "cell_type": "code",
   "execution_count": 65,
   "metadata": {},
   "outputs": [],
   "source": [
    "from nltk.stem import RSLPStemmer"
   ]
  },
  {
   "cell_type": "code",
   "execution_count": 66,
   "metadata": {},
   "outputs": [],
   "source": [
    "stemmer = RSLPStemmer()\n",
    "text_stem = [stemmer.stem(token) for token in text_without_sw]"
   ]
  },
  {
   "cell_type": "markdown",
   "metadata": {},
   "source": [
    "### Lematização\n",
    "\n",
    "Redução de uma palavra ao seu lema."
   ]
  },
  {
   "cell_type": "code",
   "execution_count": 68,
   "metadata": {},
   "outputs": [],
   "source": [
    "import spacy"
   ]
  },
  {
   "cell_type": "code",
   "execution_count": 84,
   "metadata": {},
   "outputs": [],
   "source": [
    "nlp = spacy.load('pt_core_news_sm')\n",
    "doc = nlp(str(text_without_sw))\n",
    "text_lemma = [token.lemma_ for token in doc\n",
    "                if token.pos_ not in ['PUNCT']]"
   ]
  },
  {
   "cell_type": "markdown",
   "metadata": {},
   "source": [
    "Compara Stemização e Lematização"
   ]
  },
  {
   "cell_type": "code",
   "execution_count": 74,
   "metadata": {},
   "outputs": [],
   "source": [
    "import pandas as pd"
   ]
  },
  {
   "cell_type": "code",
   "execution_count": 88,
   "metadata": {},
   "outputs": [
    {
     "data": {
      "text/html": [
       "<div>\n",
       "<style scoped>\n",
       "    .dataframe tbody tr th:only-of-type {\n",
       "        vertical-align: middle;\n",
       "    }\n",
       "\n",
       "    .dataframe tbody tr th {\n",
       "        vertical-align: top;\n",
       "    }\n",
       "\n",
       "    .dataframe thead th {\n",
       "        text-align: right;\n",
       "    }\n",
       "</style>\n",
       "<table border=\"1\" class=\"dataframe\">\n",
       "  <thead>\n",
       "    <tr style=\"text-align: right;\">\n",
       "      <th></th>\n",
       "      <th>text_without_sw</th>\n",
       "      <th>text_stem</th>\n",
       "      <th>text_lemma</th>\n",
       "    </tr>\n",
       "  </thead>\n",
       "  <tbody>\n",
       "    <tr>\n",
       "      <th>0</th>\n",
       "      <td>aumento</td>\n",
       "      <td>aument</td>\n",
       "      <td>aumento</td>\n",
       "    </tr>\n",
       "    <tr>\n",
       "      <th>1</th>\n",
       "      <td>constante</td>\n",
       "      <td>const</td>\n",
       "      <td>constante</td>\n",
       "    </tr>\n",
       "    <tr>\n",
       "      <th>2</th>\n",
       "      <td>pirataria</td>\n",
       "      <td>pirat</td>\n",
       "      <td>pirataria</td>\n",
       "    </tr>\n",
       "    <tr>\n",
       "      <th>3</th>\n",
       "      <td>país</td>\n",
       "      <td>país</td>\n",
       "      <td>país</td>\n",
       "    </tr>\n",
       "    <tr>\n",
       "      <th>4</th>\n",
       "      <td>distribuidoras</td>\n",
       "      <td>distribu</td>\n",
       "      <td>distribuidora</td>\n",
       "    </tr>\n",
       "    <tr>\n",
       "      <th>5</th>\n",
       "      <td>tendo</td>\n",
       "      <td>tend</td>\n",
       "      <td>ter</td>\n",
       "    </tr>\n",
       "    <tr>\n",
       "      <th>6</th>\n",
       "      <td>cada</td>\n",
       "      <td>cad</td>\n",
       "      <td>cada</td>\n",
       "    </tr>\n",
       "    <tr>\n",
       "      <th>7</th>\n",
       "      <td>vez</td>\n",
       "      <td>vez</td>\n",
       "      <td>vez</td>\n",
       "    </tr>\n",
       "    <tr>\n",
       "      <th>8</th>\n",
       "      <td>ousadas</td>\n",
       "      <td>ous</td>\n",
       "      <td>ousado</td>\n",
       "    </tr>\n",
       "    <tr>\n",
       "      <th>9</th>\n",
       "      <td>contradioriamente</td>\n",
       "      <td>contradi</td>\n",
       "      <td>contradioriamente</td>\n",
       "    </tr>\n",
       "    <tr>\n",
       "      <th>10</th>\n",
       "      <td>conservadoras</td>\n",
       "      <td>conserv</td>\n",
       "      <td>conservadora</td>\n",
       "    </tr>\n",
       "    <tr>\n",
       "      <th>11</th>\n",
       "      <td>estratégias</td>\n",
       "      <td>estratég</td>\n",
       "      <td>estratégia</td>\n",
       "    </tr>\n",
       "    <tr>\n",
       "      <th>12</th>\n",
       "      <td>lançamentos</td>\n",
       "      <td>lanç</td>\n",
       "      <td>lançamento</td>\n",
       "    </tr>\n",
       "    <tr>\n",
       "      <th>13</th>\n",
       "      <td>preparativos</td>\n",
       "      <td>prepar</td>\n",
       "      <td>preparativo</td>\n",
       "    </tr>\n",
       "    <tr>\n",
       "      <th>14</th>\n",
       "      <td>primeiro</td>\n",
       "      <td>prim</td>\n",
       "      <td>primeiro</td>\n",
       "    </tr>\n",
       "    <tr>\n",
       "      <th>15</th>\n",
       "      <td>grande</td>\n",
       "      <td>grand</td>\n",
       "      <td>grande</td>\n",
       "    </tr>\n",
       "    <tr>\n",
       "      <th>16</th>\n",
       "      <td>blockbuster</td>\n",
       "      <td>blockbust</td>\n",
       "      <td>blockbuster</td>\n",
       "    </tr>\n",
       "    <tr>\n",
       "      <th>17</th>\n",
       "      <td>homem</td>\n",
       "      <td>hom</td>\n",
       "      <td>homem</td>\n",
       "    </tr>\n",
       "    <tr>\n",
       "      <th>18</th>\n",
       "      <td>ferro</td>\n",
       "      <td>ferr</td>\n",
       "      <td>ferro</td>\n",
       "    </tr>\n",
       "    <tr>\n",
       "      <th>19</th>\n",
       "      <td>estúdio</td>\n",
       "      <td>estúdi</td>\n",
       "      <td>estúdio</td>\n",
       "    </tr>\n",
       "  </tbody>\n",
       "</table>\n",
       "</div>"
      ],
      "text/plain": [
       "      text_without_sw  text_stem         text_lemma\n",
       "0             aumento     aument            aumento\n",
       "1           constante      const          constante\n",
       "2           pirataria      pirat          pirataria\n",
       "3                país       país               país\n",
       "4      distribuidoras   distribu      distribuidora\n",
       "5               tendo       tend                ter\n",
       "6                cada        cad               cada\n",
       "7                 vez        vez                vez\n",
       "8             ousadas        ous             ousado\n",
       "9   contradioriamente   contradi  contradioriamente\n",
       "10      conservadoras    conserv       conservadora\n",
       "11        estratégias   estratég         estratégia\n",
       "12        lançamentos       lanç         lançamento\n",
       "13       preparativos     prepar        preparativo\n",
       "14           primeiro       prim           primeiro\n",
       "15             grande      grand             grande\n",
       "16        blockbuster  blockbust        blockbuster\n",
       "17              homem        hom              homem\n",
       "18              ferro       ferr              ferro\n",
       "19            estúdio     estúdi            estúdio"
      ]
     },
     "execution_count": 88,
     "metadata": {},
     "output_type": "execute_result"
    }
   ],
   "source": [
    "data =  {\n",
    "    'text_without_sw': text_without_sw,\n",
    "    'text_stem': text_stem,\n",
    "    'text_lemma': text_lemma\n",
    "}\n",
    "data = pd.DataFrame(data)\n",
    "data[0:20]"
   ]
  },
  {
   "cell_type": "markdown",
   "metadata": {},
   "source": [
    "## Vetorização\n",
    "\n",
    "É o processo de converter o texto em um vetor numérico para ser utilizado como entrada em modelos de NLP."
   ]
  },
  {
   "cell_type": "code",
   "execution_count": 102,
   "metadata": {},
   "outputs": [],
   "source": [
    "from sklearn.feature_extraction.text import CountVectorizer\n",
    "from sklearn.feature_extraction.text import TfidfVectorizer\n",
    "\n",
    "corpus = [\n",
    "    'O cachorro late muito alto',\n",
    "    'O gato mia quando tem fome',\n",
    "    'O cachorro gosta de brincar no parque'\n",
    "]"
   ]
  },
  {
   "cell_type": "markdown",
   "metadata": {},
   "source": [
    "### One Hot\n",
    "\n",
    "É usada para representar variáveis categóricas como vetores binários, ou seja, transformar cada categoria em uma nova variável binária que indica a presença ou ausência da categoria em uma determinada amostra."
   ]
  },
  {
   "cell_type": "code",
   "execution_count": 113,
   "metadata": {},
   "outputs": [
    {
     "name": "stdout",
     "output_type": "stream",
     "text": [
      "[[1 0 1 0 0 0 0 1 0 1 0 0 0 0]\n",
      " [0 0 0 0 1 1 0 0 1 0 0 0 1 1]\n",
      " [0 1 1 1 0 0 1 0 0 0 1 1 0 0]]\n"
     ]
    }
   ],
   "source": [
    "vectorizer = CountVectorizer(binary=True)\n",
    "one_hot = vectorizer.fit_transform(corpus)\n",
    "\n",
    "print(one_hot.toarray())"
   ]
  },
  {
   "cell_type": "code",
   "execution_count": 115,
   "metadata": {},
   "outputs": [
    {
     "data": {
      "text/html": [
       "<div>\n",
       "<style scoped>\n",
       "    .dataframe tbody tr th:only-of-type {\n",
       "        vertical-align: middle;\n",
       "    }\n",
       "\n",
       "    .dataframe tbody tr th {\n",
       "        vertical-align: top;\n",
       "    }\n",
       "\n",
       "    .dataframe thead th {\n",
       "        text-align: right;\n",
       "    }\n",
       "</style>\n",
       "<table border=\"1\" class=\"dataframe\">\n",
       "  <thead>\n",
       "    <tr style=\"text-align: right;\">\n",
       "      <th></th>\n",
       "      <th>alto</th>\n",
       "      <th>brincar</th>\n",
       "      <th>cachorro</th>\n",
       "      <th>de</th>\n",
       "      <th>fome</th>\n",
       "      <th>gato</th>\n",
       "      <th>gosta</th>\n",
       "      <th>late</th>\n",
       "      <th>mia</th>\n",
       "      <th>muito</th>\n",
       "      <th>no</th>\n",
       "      <th>parque</th>\n",
       "      <th>quando</th>\n",
       "      <th>tem</th>\n",
       "    </tr>\n",
       "  </thead>\n",
       "  <tbody>\n",
       "    <tr>\n",
       "      <th>0</th>\n",
       "      <td>1</td>\n",
       "      <td>0</td>\n",
       "      <td>1</td>\n",
       "      <td>0</td>\n",
       "      <td>0</td>\n",
       "      <td>0</td>\n",
       "      <td>0</td>\n",
       "      <td>1</td>\n",
       "      <td>0</td>\n",
       "      <td>1</td>\n",
       "      <td>0</td>\n",
       "      <td>0</td>\n",
       "      <td>0</td>\n",
       "      <td>0</td>\n",
       "    </tr>\n",
       "    <tr>\n",
       "      <th>1</th>\n",
       "      <td>0</td>\n",
       "      <td>0</td>\n",
       "      <td>0</td>\n",
       "      <td>0</td>\n",
       "      <td>1</td>\n",
       "      <td>1</td>\n",
       "      <td>0</td>\n",
       "      <td>0</td>\n",
       "      <td>1</td>\n",
       "      <td>0</td>\n",
       "      <td>0</td>\n",
       "      <td>0</td>\n",
       "      <td>1</td>\n",
       "      <td>1</td>\n",
       "    </tr>\n",
       "    <tr>\n",
       "      <th>2</th>\n",
       "      <td>0</td>\n",
       "      <td>1</td>\n",
       "      <td>1</td>\n",
       "      <td>1</td>\n",
       "      <td>0</td>\n",
       "      <td>0</td>\n",
       "      <td>1</td>\n",
       "      <td>0</td>\n",
       "      <td>0</td>\n",
       "      <td>0</td>\n",
       "      <td>1</td>\n",
       "      <td>1</td>\n",
       "      <td>0</td>\n",
       "      <td>0</td>\n",
       "    </tr>\n",
       "  </tbody>\n",
       "</table>\n",
       "</div>"
      ],
      "text/plain": [
       "   alto  brincar  cachorro  de  fome  gato  gosta  late  mia  muito  no  \\\n",
       "0     1        0         1   0     0     0      0     1    0      1   0   \n",
       "1     0        0         0   0     1     1      0     0    1      0   0   \n",
       "2     0        1         1   1     0     0      1     0    0      0   1   \n",
       "\n",
       "   parque  quando  tem  \n",
       "0       0       0    0  \n",
       "1       0       1    1  \n",
       "2       1       0    0  "
      ]
     },
     "execution_count": 115,
     "metadata": {},
     "output_type": "execute_result"
    }
   ],
   "source": [
    "df = pd.DataFrame(one_hot.todense(), columns=vectorizer.get_feature_names_out())\n",
    "df"
   ]
  },
  {
   "cell_type": "markdown",
   "metadata": {},
   "source": [
    "### TF- IDF\n",
    "\n",
    "O TF-IDF (Term Frequency-Inverse Document Frequency) é uma técnica usada para atribuir um peso a cada termo em um conjunto de documentos ou corpus, com o objetivo de medir a sua relevância em relação a um determinado documento."
   ]
  },
  {
   "cell_type": "code",
   "execution_count": 109,
   "metadata": {},
   "outputs": [],
   "source": [
    "vectorizer = TfidfVectorizer()\n",
    "tfidf = vectorizer.fit_transform(corpus)"
   ]
  },
  {
   "cell_type": "code",
   "execution_count": 116,
   "metadata": {},
   "outputs": [
    {
     "data": {
      "text/html": [
       "<div>\n",
       "<style scoped>\n",
       "    .dataframe tbody tr th:only-of-type {\n",
       "        vertical-align: middle;\n",
       "    }\n",
       "\n",
       "    .dataframe tbody tr th {\n",
       "        vertical-align: top;\n",
       "    }\n",
       "\n",
       "    .dataframe thead th {\n",
       "        text-align: right;\n",
       "    }\n",
       "</style>\n",
       "<table border=\"1\" class=\"dataframe\">\n",
       "  <thead>\n",
       "    <tr style=\"text-align: right;\">\n",
       "      <th></th>\n",
       "      <th>alto</th>\n",
       "      <th>brincar</th>\n",
       "      <th>cachorro</th>\n",
       "      <th>de</th>\n",
       "      <th>fome</th>\n",
       "      <th>gato</th>\n",
       "      <th>gosta</th>\n",
       "      <th>late</th>\n",
       "      <th>mia</th>\n",
       "      <th>muito</th>\n",
       "      <th>no</th>\n",
       "      <th>parque</th>\n",
       "      <th>quando</th>\n",
       "      <th>tem</th>\n",
       "    </tr>\n",
       "  </thead>\n",
       "  <tbody>\n",
       "    <tr>\n",
       "      <th>0</th>\n",
       "      <td>0.528635</td>\n",
       "      <td>0.000000</td>\n",
       "      <td>0.402040</td>\n",
       "      <td>0.000000</td>\n",
       "      <td>0.000000</td>\n",
       "      <td>0.000000</td>\n",
       "      <td>0.000000</td>\n",
       "      <td>0.528635</td>\n",
       "      <td>0.000000</td>\n",
       "      <td>0.528635</td>\n",
       "      <td>0.000000</td>\n",
       "      <td>0.000000</td>\n",
       "      <td>0.000000</td>\n",
       "      <td>0.000000</td>\n",
       "    </tr>\n",
       "    <tr>\n",
       "      <th>1</th>\n",
       "      <td>0.000000</td>\n",
       "      <td>0.000000</td>\n",
       "      <td>0.000000</td>\n",
       "      <td>0.000000</td>\n",
       "      <td>0.447214</td>\n",
       "      <td>0.447214</td>\n",
       "      <td>0.000000</td>\n",
       "      <td>0.000000</td>\n",
       "      <td>0.447214</td>\n",
       "      <td>0.000000</td>\n",
       "      <td>0.000000</td>\n",
       "      <td>0.000000</td>\n",
       "      <td>0.447214</td>\n",
       "      <td>0.447214</td>\n",
       "    </tr>\n",
       "    <tr>\n",
       "      <th>2</th>\n",
       "      <td>0.000000</td>\n",
       "      <td>0.423394</td>\n",
       "      <td>0.322002</td>\n",
       "      <td>0.423394</td>\n",
       "      <td>0.000000</td>\n",
       "      <td>0.000000</td>\n",
       "      <td>0.423394</td>\n",
       "      <td>0.000000</td>\n",
       "      <td>0.000000</td>\n",
       "      <td>0.000000</td>\n",
       "      <td>0.423394</td>\n",
       "      <td>0.423394</td>\n",
       "      <td>0.000000</td>\n",
       "      <td>0.000000</td>\n",
       "    </tr>\n",
       "  </tbody>\n",
       "</table>\n",
       "</div>"
      ],
      "text/plain": [
       "       alto   brincar  cachorro        de      fome      gato     gosta  \\\n",
       "0  0.528635  0.000000  0.402040  0.000000  0.000000  0.000000  0.000000   \n",
       "1  0.000000  0.000000  0.000000  0.000000  0.447214  0.447214  0.000000   \n",
       "2  0.000000  0.423394  0.322002  0.423394  0.000000  0.000000  0.423394   \n",
       "\n",
       "       late       mia     muito        no    parque    quando       tem  \n",
       "0  0.528635  0.000000  0.528635  0.000000  0.000000  0.000000  0.000000  \n",
       "1  0.000000  0.447214  0.000000  0.000000  0.000000  0.447214  0.447214  \n",
       "2  0.000000  0.000000  0.000000  0.423394  0.423394  0.000000  0.000000  "
      ]
     },
     "execution_count": 116,
     "metadata": {},
     "output_type": "execute_result"
    }
   ],
   "source": [
    "df = pd.DataFrame(tfidf.todense(), columns=vectorizer.get_feature_names_out())\n",
    "df"
   ]
  },
  {
   "cell_type": "markdown",
   "metadata": {},
   "source": [
    "## Spacy"
   ]
  },
  {
   "cell_type": "code",
   "execution_count": 123,
   "metadata": {},
   "outputs": [],
   "source": [
    "import spacy\n",
    "from spacy import displacy\n",
    "nlp = spacy.load(\"en_core_web_sm\")"
   ]
  },
  {
   "cell_type": "code",
   "execution_count": 121,
   "metadata": {},
   "outputs": [
    {
     "data": {
      "text/html": [
       "<div>\n",
       "<style scoped>\n",
       "    .dataframe tbody tr th:only-of-type {\n",
       "        vertical-align: middle;\n",
       "    }\n",
       "\n",
       "    .dataframe tbody tr th {\n",
       "        vertical-align: top;\n",
       "    }\n",
       "\n",
       "    .dataframe thead th {\n",
       "        text-align: right;\n",
       "    }\n",
       "</style>\n",
       "<table border=\"1\" class=\"dataframe\">\n",
       "  <thead>\n",
       "    <tr style=\"text-align: right;\">\n",
       "      <th></th>\n",
       "      <th>Text</th>\n",
       "      <th>Lemma</th>\n",
       "      <th>Pos</th>\n",
       "      <th>Dep</th>\n",
       "      <th>Is Stop</th>\n",
       "    </tr>\n",
       "  </thead>\n",
       "  <tbody>\n",
       "    <tr>\n",
       "      <th>0</th>\n",
       "      <td>Apple</td>\n",
       "      <td>Apple</td>\n",
       "      <td>PROPN</td>\n",
       "      <td>nsubj</td>\n",
       "      <td>False</td>\n",
       "    </tr>\n",
       "    <tr>\n",
       "      <th>1</th>\n",
       "      <td>is</td>\n",
       "      <td>be</td>\n",
       "      <td>AUX</td>\n",
       "      <td>aux</td>\n",
       "      <td>True</td>\n",
       "    </tr>\n",
       "    <tr>\n",
       "      <th>2</th>\n",
       "      <td>looking</td>\n",
       "      <td>look</td>\n",
       "      <td>VERB</td>\n",
       "      <td>ROOT</td>\n",
       "      <td>False</td>\n",
       "    </tr>\n",
       "    <tr>\n",
       "      <th>3</th>\n",
       "      <td>at</td>\n",
       "      <td>at</td>\n",
       "      <td>ADP</td>\n",
       "      <td>prep</td>\n",
       "      <td>True</td>\n",
       "    </tr>\n",
       "    <tr>\n",
       "      <th>4</th>\n",
       "      <td>buying</td>\n",
       "      <td>buy</td>\n",
       "      <td>VERB</td>\n",
       "      <td>pcomp</td>\n",
       "      <td>False</td>\n",
       "    </tr>\n",
       "    <tr>\n",
       "      <th>5</th>\n",
       "      <td>U.K.</td>\n",
       "      <td>U.K.</td>\n",
       "      <td>PROPN</td>\n",
       "      <td>dobj</td>\n",
       "      <td>False</td>\n",
       "    </tr>\n",
       "    <tr>\n",
       "      <th>6</th>\n",
       "      <td>startup</td>\n",
       "      <td>startup</td>\n",
       "      <td>NOUN</td>\n",
       "      <td>dep</td>\n",
       "      <td>False</td>\n",
       "    </tr>\n",
       "    <tr>\n",
       "      <th>7</th>\n",
       "      <td>for</td>\n",
       "      <td>for</td>\n",
       "      <td>ADP</td>\n",
       "      <td>prep</td>\n",
       "      <td>True</td>\n",
       "    </tr>\n",
       "    <tr>\n",
       "      <th>8</th>\n",
       "      <td>$</td>\n",
       "      <td>$</td>\n",
       "      <td>SYM</td>\n",
       "      <td>quantmod</td>\n",
       "      <td>False</td>\n",
       "    </tr>\n",
       "    <tr>\n",
       "      <th>9</th>\n",
       "      <td>1</td>\n",
       "      <td>1</td>\n",
       "      <td>NUM</td>\n",
       "      <td>compound</td>\n",
       "      <td>False</td>\n",
       "    </tr>\n",
       "    <tr>\n",
       "      <th>10</th>\n",
       "      <td>billion</td>\n",
       "      <td>billion</td>\n",
       "      <td>NUM</td>\n",
       "      <td>pobj</td>\n",
       "      <td>False</td>\n",
       "    </tr>\n",
       "  </tbody>\n",
       "</table>\n",
       "</div>"
      ],
      "text/plain": [
       "       Text    Lemma    Pos       Dep Is Stop\n",
       "0     Apple    Apple  PROPN     nsubj   False\n",
       "1        is       be    AUX       aux    True\n",
       "2   looking     look   VERB      ROOT   False\n",
       "3        at       at    ADP      prep    True\n",
       "4    buying      buy   VERB     pcomp   False\n",
       "5      U.K.     U.K.  PROPN      dobj   False\n",
       "6   startup  startup   NOUN       dep   False\n",
       "7       for      for    ADP      prep    True\n",
       "8         $        $    SYM  quantmod   False\n",
       "9         1        1    NUM  compound   False\n",
       "10  billion  billion    NUM      pobj   False"
      ]
     },
     "execution_count": 121,
     "metadata": {},
     "output_type": "execute_result"
    }
   ],
   "source": [
    "doc = nlp(\"Apple is looking at buying U.K. startup for $1 billion\")\n",
    "df = pd.DataFrame(columns = ['Text', 'Lemma', 'Pos','Dep','Is Stop'])\n",
    "for token in doc:\n",
    "    df=df.append({'Text' : str(token.text) , 'Lemma' : str(token.lemma_), 'Pos' : str(token.pos_),'Dep' : str(token.dep_),'Is Stop' : str(token.is_stop)},ignore_index=True)\n",
    "\n",
    "df"
   ]
  },
  {
   "cell_type": "code",
   "execution_count": 124,
   "metadata": {},
   "outputs": [
    {
     "data": {
      "text/html": [
       "<span class=\"tex2jax_ignore\"><div class=\"entities\" style=\"line-height: 2.5; direction: ltr\">\n",
       "<mark class=\"entity\" style=\"background: #7aecec; padding: 0.45em 0.6em; margin: 0 0.25em; line-height: 1; border-radius: 0.35em;\">\n",
       "    Apple\n",
       "    <span style=\"font-size: 0.8em; font-weight: bold; line-height: 1; border-radius: 0.35em; vertical-align: middle; margin-left: 0.5rem\">ORG</span>\n",
       "</mark>\n",
       " is looking at buying \n",
       "<mark class=\"entity\" style=\"background: #feca74; padding: 0.45em 0.6em; margin: 0 0.25em; line-height: 1; border-radius: 0.35em;\">\n",
       "    U.K.\n",
       "    <span style=\"font-size: 0.8em; font-weight: bold; line-height: 1; border-radius: 0.35em; vertical-align: middle; margin-left: 0.5rem\">GPE</span>\n",
       "</mark>\n",
       " startup for \n",
       "<mark class=\"entity\" style=\"background: #e4e7d2; padding: 0.45em 0.6em; margin: 0 0.25em; line-height: 1; border-radius: 0.35em;\">\n",
       "    $1 billion\n",
       "    <span style=\"font-size: 0.8em; font-weight: bold; line-height: 1; border-radius: 0.35em; vertical-align: middle; margin-left: 0.5rem\">MONEY</span>\n",
       "</mark>\n",
       "</div></span>"
      ],
      "text/plain": [
       "<IPython.core.display.HTML object>"
      ]
     },
     "metadata": {},
     "output_type": "display_data"
    }
   ],
   "source": [
    "displacy.render(doc, style=\"ent\",jupyter=True)"
   ]
  },
  {
   "cell_type": "code",
   "execution_count": 128,
   "metadata": {},
   "outputs": [
    {
     "data": {
      "text/markdown": [
       "Mark Zuckerberg is the founder and CEO of Facebook, the world's largest social networking platform. Born in 1984, Zuckerberg grew up in New York and was always interested in computers and programming. He created his first computer program at the age of 12 and continued to develop his skills throughout his teenage years. After graduating from high school, Zuckerberg enrolled at Harvard University. It was here that he developed the idea for Facebook, a social networking platform that would connect people all over the world. He launched the site in 2004 with a group of fellow students and quickly gained a massive following. Under Zuckerberg's leadership, Facebook has grown to become one of the most influential companies in the world. The platform now boasts over 2 billion active users and has transformed the way we communicate, share information, and connect with others. Zuckerberg is known for his ambitious vision and his relentless pursuit of innovation. He has led Facebook through numerous challenges and controversies, including accusations of privacy violations and the spread of fake news. Despite these setbacks, he remains committed to his mission of bringing people together and creating a more connected world. In addition to his work at Facebook, Zuckerberg is also known for his philanthropic efforts. He and his wife, Priscilla Chan, have pledged to give away 99% of their wealth to charitable causes, with a focus on improving education, health care, and scientific research. Overall, Mark Zuckerberg is a visionary leader who has transformed the way we interact with each other online. His dedication to innovation and his commitment to making a positive impact on the world have earned him widespread recognition and admiration."
      ],
      "text/plain": [
       "<IPython.core.display.Markdown object>"
      ]
     },
     "metadata": {},
     "output_type": "display_data"
    }
   ],
   "source": [
    "review = \"\"\"Mark Zuckerberg is the founder and CEO of Facebook, the world's largest social networking platform. Born in 1984, Zuckerberg grew up in New York and was always interested in computers and programming. He created his first computer program at the age of 12 and continued to develop his skills throughout his teenage years. After graduating from high school, Zuckerberg enrolled at Harvard University. It was here that he developed the idea for Facebook, a social networking platform that would connect people all over the world. He launched the site in 2004 with a group of fellow students and quickly gained a massive following. Under Zuckerberg's leadership, Facebook has grown to become one of the most influential companies in the world. The platform now boasts over 2 billion active users and has transformed the way we communicate, share information, and connect with others. Zuckerberg is known for his ambitious vision and his relentless pursuit of innovation. He has led Facebook through numerous challenges and controversies, including accusations of privacy violations and the spread of fake news. Despite these setbacks, he remains committed to his mission of bringing people together and creating a more connected world. In addition to his work at Facebook, Zuckerberg is also known for his philanthropic efforts. He and his wife, Priscilla Chan, have pledged to give away 99% of their wealth to charitable causes, with a focus on improving education, health care, and scientific research. Overall, Mark Zuckerberg is a visionary leader who has transformed the way we interact with each other online. His dedication to innovation and his commitment to making a positive impact on the world have earned him widespread recognition and admiration.\"\"\"\n",
    "display(Markdown(review))"
   ]
  },
  {
   "cell_type": "code",
   "execution_count": 129,
   "metadata": {},
   "outputs": [
    {
     "data": {
      "text/html": [
       "<span class=\"tex2jax_ignore\"><div class=\"entities\" style=\"line-height: 2.5; direction: ltr\">\n",
       "<mark class=\"entity\" style=\"background: #aa9cfc; padding: 0.45em 0.6em; margin: 0 0.25em; line-height: 1; border-radius: 0.35em;\">\n",
       "    Mark Zuckerberg\n",
       "    <span style=\"font-size: 0.8em; font-weight: bold; line-height: 1; border-radius: 0.35em; vertical-align: middle; margin-left: 0.5rem\">PERSON</span>\n",
       "</mark>\n",
       " is the founder and CEO of \n",
       "<mark class=\"entity\" style=\"background: #7aecec; padding: 0.45em 0.6em; margin: 0 0.25em; line-height: 1; border-radius: 0.35em;\">\n",
       "    Facebook\n",
       "    <span style=\"font-size: 0.8em; font-weight: bold; line-height: 1; border-radius: 0.35em; vertical-align: middle; margin-left: 0.5rem\">ORG</span>\n",
       "</mark>\n",
       ", the world's largest social networking platform. Born in \n",
       "<mark class=\"entity\" style=\"background: #bfe1d9; padding: 0.45em 0.6em; margin: 0 0.25em; line-height: 1; border-radius: 0.35em;\">\n",
       "    1984\n",
       "    <span style=\"font-size: 0.8em; font-weight: bold; line-height: 1; border-radius: 0.35em; vertical-align: middle; margin-left: 0.5rem\">DATE</span>\n",
       "</mark>\n",
       ", \n",
       "<mark class=\"entity\" style=\"background: #aa9cfc; padding: 0.45em 0.6em; margin: 0 0.25em; line-height: 1; border-radius: 0.35em;\">\n",
       "    Zuckerberg\n",
       "    <span style=\"font-size: 0.8em; font-weight: bold; line-height: 1; border-radius: 0.35em; vertical-align: middle; margin-left: 0.5rem\">PERSON</span>\n",
       "</mark>\n",
       " grew up in \n",
       "<mark class=\"entity\" style=\"background: #feca74; padding: 0.45em 0.6em; margin: 0 0.25em; line-height: 1; border-radius: 0.35em;\">\n",
       "    New York\n",
       "    <span style=\"font-size: 0.8em; font-weight: bold; line-height: 1; border-radius: 0.35em; vertical-align: middle; margin-left: 0.5rem\">GPE</span>\n",
       "</mark>\n",
       " and was always interested in computers and programming. He created his \n",
       "<mark class=\"entity\" style=\"background: #e4e7d2; padding: 0.45em 0.6em; margin: 0 0.25em; line-height: 1; border-radius: 0.35em;\">\n",
       "    first\n",
       "    <span style=\"font-size: 0.8em; font-weight: bold; line-height: 1; border-radius: 0.35em; vertical-align: middle; margin-left: 0.5rem\">ORDINAL</span>\n",
       "</mark>\n",
       " computer program at \n",
       "<mark class=\"entity\" style=\"background: #bfe1d9; padding: 0.45em 0.6em; margin: 0 0.25em; line-height: 1; border-radius: 0.35em;\">\n",
       "    the age of 12\n",
       "    <span style=\"font-size: 0.8em; font-weight: bold; line-height: 1; border-radius: 0.35em; vertical-align: middle; margin-left: 0.5rem\">DATE</span>\n",
       "</mark>\n",
       " and continued to develop his skills throughout his teenage \n",
       "<mark class=\"entity\" style=\"background: #bfe1d9; padding: 0.45em 0.6em; margin: 0 0.25em; line-height: 1; border-radius: 0.35em;\">\n",
       "    years\n",
       "    <span style=\"font-size: 0.8em; font-weight: bold; line-height: 1; border-radius: 0.35em; vertical-align: middle; margin-left: 0.5rem\">DATE</span>\n",
       "</mark>\n",
       ". After graduating from high school, \n",
       "<mark class=\"entity\" style=\"background: #aa9cfc; padding: 0.45em 0.6em; margin: 0 0.25em; line-height: 1; border-radius: 0.35em;\">\n",
       "    Zuckerberg\n",
       "    <span style=\"font-size: 0.8em; font-weight: bold; line-height: 1; border-radius: 0.35em; vertical-align: middle; margin-left: 0.5rem\">PERSON</span>\n",
       "</mark>\n",
       " enrolled at \n",
       "<mark class=\"entity\" style=\"background: #7aecec; padding: 0.45em 0.6em; margin: 0 0.25em; line-height: 1; border-radius: 0.35em;\">\n",
       "    Harvard University\n",
       "    <span style=\"font-size: 0.8em; font-weight: bold; line-height: 1; border-radius: 0.35em; vertical-align: middle; margin-left: 0.5rem\">ORG</span>\n",
       "</mark>\n",
       ". It was here that he developed the idea for \n",
       "<mark class=\"entity\" style=\"background: #7aecec; padding: 0.45em 0.6em; margin: 0 0.25em; line-height: 1; border-radius: 0.35em;\">\n",
       "    Facebook\n",
       "    <span style=\"font-size: 0.8em; font-weight: bold; line-height: 1; border-radius: 0.35em; vertical-align: middle; margin-left: 0.5rem\">ORG</span>\n",
       "</mark>\n",
       ", a social networking platform that would connect people all over the world. He launched the site in \n",
       "<mark class=\"entity\" style=\"background: #bfe1d9; padding: 0.45em 0.6em; margin: 0 0.25em; line-height: 1; border-radius: 0.35em;\">\n",
       "    2004\n",
       "    <span style=\"font-size: 0.8em; font-weight: bold; line-height: 1; border-radius: 0.35em; vertical-align: middle; margin-left: 0.5rem\">DATE</span>\n",
       "</mark>\n",
       " with a group of fellow students and quickly gained a massive following. Under \n",
       "<mark class=\"entity\" style=\"background: #aa9cfc; padding: 0.45em 0.6em; margin: 0 0.25em; line-height: 1; border-radius: 0.35em;\">\n",
       "    Zuckerberg\n",
       "    <span style=\"font-size: 0.8em; font-weight: bold; line-height: 1; border-radius: 0.35em; vertical-align: middle; margin-left: 0.5rem\">PERSON</span>\n",
       "</mark>\n",
       "'s leadership, Facebook has grown to become one of the most influential companies in the world. The platform now boasts over \n",
       "<mark class=\"entity\" style=\"background: #e4e7d2; padding: 0.45em 0.6em; margin: 0 0.25em; line-height: 1; border-radius: 0.35em;\">\n",
       "    2 billion\n",
       "    <span style=\"font-size: 0.8em; font-weight: bold; line-height: 1; border-radius: 0.35em; vertical-align: middle; margin-left: 0.5rem\">CARDINAL</span>\n",
       "</mark>\n",
       " active users and has transformed the way we communicate, share information, and connect with others. \n",
       "<mark class=\"entity\" style=\"background: #aa9cfc; padding: 0.45em 0.6em; margin: 0 0.25em; line-height: 1; border-radius: 0.35em;\">\n",
       "    Zuckerberg\n",
       "    <span style=\"font-size: 0.8em; font-weight: bold; line-height: 1; border-radius: 0.35em; vertical-align: middle; margin-left: 0.5rem\">PERSON</span>\n",
       "</mark>\n",
       " is known for his ambitious vision and his relentless pursuit of innovation. He has led Facebook through numerous challenges and controversies, including accusations of privacy violations and the spread of fake news. Despite these setbacks, he remains committed to his mission of bringing people together and creating a more connected world. In addition to his work at \n",
       "<mark class=\"entity\" style=\"background: #feca74; padding: 0.45em 0.6em; margin: 0 0.25em; line-height: 1; border-radius: 0.35em;\">\n",
       "    Facebook\n",
       "    <span style=\"font-size: 0.8em; font-weight: bold; line-height: 1; border-radius: 0.35em; vertical-align: middle; margin-left: 0.5rem\">GPE</span>\n",
       "</mark>\n",
       ", \n",
       "<mark class=\"entity\" style=\"background: #aa9cfc; padding: 0.45em 0.6em; margin: 0 0.25em; line-height: 1; border-radius: 0.35em;\">\n",
       "    Zuckerberg\n",
       "    <span style=\"font-size: 0.8em; font-weight: bold; line-height: 1; border-radius: 0.35em; vertical-align: middle; margin-left: 0.5rem\">PERSON</span>\n",
       "</mark>\n",
       " is also known for his philanthropic efforts. He and his wife, \n",
       "<mark class=\"entity\" style=\"background: #aa9cfc; padding: 0.45em 0.6em; margin: 0 0.25em; line-height: 1; border-radius: 0.35em;\">\n",
       "    Priscilla Chan\n",
       "    <span style=\"font-size: 0.8em; font-weight: bold; line-height: 1; border-radius: 0.35em; vertical-align: middle; margin-left: 0.5rem\">PERSON</span>\n",
       "</mark>\n",
       ", have pledged to give away \n",
       "<mark class=\"entity\" style=\"background: #e4e7d2; padding: 0.45em 0.6em; margin: 0 0.25em; line-height: 1; border-radius: 0.35em;\">\n",
       "    99%\n",
       "    <span style=\"font-size: 0.8em; font-weight: bold; line-height: 1; border-radius: 0.35em; vertical-align: middle; margin-left: 0.5rem\">PERCENT</span>\n",
       "</mark>\n",
       " of their wealth to charitable causes, with a focus on improving education, health care, and scientific research. Overall, \n",
       "<mark class=\"entity\" style=\"background: #aa9cfc; padding: 0.45em 0.6em; margin: 0 0.25em; line-height: 1; border-radius: 0.35em;\">\n",
       "    Mark Zuckerberg\n",
       "    <span style=\"font-size: 0.8em; font-weight: bold; line-height: 1; border-radius: 0.35em; vertical-align: middle; margin-left: 0.5rem\">PERSON</span>\n",
       "</mark>\n",
       " is a visionary leader who has transformed the way we interact with each other online. His dedication to innovation and his commitment to making a positive impact on the world have earned him widespread recognition and admiration.</div></span>"
      ],
      "text/plain": [
       "<IPython.core.display.HTML object>"
      ]
     },
     "metadata": {},
     "output_type": "display_data"
    }
   ],
   "source": [
    "doc = nlp(review)\n",
    "displacy.render(doc, style=\"ent\",jupyter=True)"
   ]
  },
  {
   "cell_type": "code",
   "execution_count": null,
   "metadata": {},
   "outputs": [],
   "source": []
  }
 ],
 "metadata": {
  "kernelspec": {
   "display_name": "Python 3 (ipykernel)",
   "language": "python",
   "name": "python3"
  },
  "language_info": {
   "codemirror_mode": {
    "name": "ipython",
    "version": 3
   },
   "file_extension": ".py",
   "mimetype": "text/x-python",
   "name": "python",
   "nbconvert_exporter": "python",
   "pygments_lexer": "ipython3",
   "version": "3.7.13"
  }
 },
 "nbformat": 4,
 "nbformat_minor": 2
}
